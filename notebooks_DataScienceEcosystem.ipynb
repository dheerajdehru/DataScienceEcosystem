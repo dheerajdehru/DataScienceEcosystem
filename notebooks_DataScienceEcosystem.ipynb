{
  "metadata": {
    "kernelspec": {
      "name": "python",
      "display_name": "Python (Pyodide)",
      "language": "python"
    },
    "language_info": {
      "codemirror_mode": {
        "name": "python",
        "version": 3
      },
      "file_extension": ".py",
      "mimetype": "text/x-python",
      "name": "python",
      "nbconvert_exporter": "python",
      "pygments_lexer": "ipython3",
      "version": "3.8"
    }
  },
  "nbformat_minor": 5,
  "nbformat": 4,
  "cells": [
    {
      "cell_type": "markdown",
      "source": "# Data Science Tools and Ecosystem",
      "metadata": {},
      "id": "03c491ff-f709-4618-bb8f-2dcaa043c169"
    },
    {
      "cell_type": "markdown",
      "source": "In this notebook, Data Science Tools and Ecosystem are summarized",
      "metadata": {},
      "id": "fb8c5022-35ea-44f0-81c5-a356b0d44cde"
    },
    {
      "cell_type": "markdown",
      "source": "Some of the popular languages that Data Scientists use are:\n1. Python\n2. R \n3. SQL",
      "metadata": {},
      "id": "07389c3e-9d83-45bd-92d1-9e9652d3b148"
    },
    {
      "cell_type": "markdown",
      "source": "Some of the commonly used libraries used by Data Scientists include:\n1. Pandas\n2. NumPy\n3. Matplotlib",
      "metadata": {},
      "id": "ccc8e144-8e4b-4220-8190-bce410e24cb7"
    },
    {
      "cell_type": "markdown",
      "source": "| Data Science Tools |\n|--------------------|\n| Jupyter Notebook |\n| RStudio |\n| VSCode (Visual Studio Code) |",
      "metadata": {},
      "id": "c0c2873c-f619-4332-b8e0-6cd558cf079c"
    },
    {
      "cell_type": "markdown",
      "source": "### Below are a few examples of evaluating arithmetic expressions in Python",
      "metadata": {},
      "id": "6f3f0f91-7d76-4bb0-849a-115330944622"
    },
    {
      "cell_type": "code",
      "source": "#This a simple arithmetic expression to mutiply then add integers\n(3*4)+5",
      "metadata": {
        "trusted": true
      },
      "execution_count": 6,
      "outputs": [
        {
          "execution_count": 6,
          "output_type": "execute_result",
          "data": {
            "text/plain": "17"
          },
          "metadata": {}
        }
      ],
      "id": "64c6283c-c1dd-439c-a2f3-612ec93729b5"
    },
    {
      "cell_type": "code",
      "source": " #This will convert 200 minutes to hours by diving by 60\n(200/60)",
      "metadata": {
        "trusted": true
      },
      "execution_count": 7,
      "outputs": [
        {
          "execution_count": 7,
          "output_type": "execute_result",
          "data": {
            "text/plain": "3.3333333333333335"
          },
          "metadata": {}
        }
      ],
      "id": "9132a289-d7ee-4cb4-a36d-9a63b653fee7"
    },
    {
      "cell_type": "markdown",
      "source": "**Objectives:**\n\n- List popular programming languages for Data Science.\n- Explain the importance of Jupyter Notebooks in data analysis.\n- Describe the use of key data science libraries in Python.\n- Discuss common data visualization tools and techniques.\n- Provide an overview of machine learning concepts in data science.\n\n\n",
      "metadata": {},
      "id": "ea0ce38f-df22-438a-8eef-f819eeff54d5"
    },
    {
      "cell_type": "markdown",
      "source": "## Author\n\nDheeraj Bishnoi",
      "metadata": {},
      "id": "9e60ff91-0fa3-4d3f-b060-1f7a78dcc0a8"
    },
    {
      "cell_type": "code",
      "source": "",
      "metadata": {},
      "execution_count": null,
      "outputs": [],
      "id": "81c5d0dd-fb7a-471d-9c9f-9502baae68e1"
    }
  ]
}